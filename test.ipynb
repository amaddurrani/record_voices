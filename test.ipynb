{
 "cells": [
  {
   "cell_type": "code",
   "execution_count": 3,
   "metadata": {},
   "outputs": [],
   "source": []
  },
  {
   "cell_type": "code",
   "execution_count": 6,
   "metadata": {},
   "outputs": [
    {
     "data": {
      "text/plain": [
       "1"
      ]
     },
     "execution_count": 6,
     "metadata": {},
     "output_type": "execute_result"
    }
   ],
   "source": [
    "set_flag()\n",
    "flag"
   ]
  },
  {
   "cell_type": "code",
   "execution_count": 7,
   "metadata": {},
   "outputs": [],
   "source": [
    "import pandas as pd"
   ]
  },
  {
   "cell_type": "code",
   "execution_count": 8,
   "metadata": {},
   "outputs": [
    {
     "data": {
      "text/plain": [
       "0                   لونی\n",
       "1           بازار بَنانا\n",
       "2                    اَب\n",
       "3        ِ اِحِْتشام دار\n",
       "4               بندی جان\n",
       "              ...       \n",
       "6937          پرچہ نِگار\n",
       "6938         پرچہ نَوِیس\n",
       "6939       پَرْچی ڈالْنا\n",
       "6940       پَرْچے کَرْنا\n",
       "6941     پَرِچَے رَکْھنا\n",
       "Name: word, Length: 6942, dtype: object"
      ]
     },
     "execution_count": 8,
     "metadata": {},
     "output_type": "execute_result"
    }
   ],
   "source": [
    "df=pd.read_csv('voices_unavailable.csv')\n",
    "df['word']"
   ]
  },
  {
   "cell_type": "code",
   "execution_count": 18,
   "metadata": {},
   "outputs": [],
   "source": [
    "df=df.drop(df.loc[df['word']=='لونی'].index.values)"
   ]
  },
  {
   "cell_type": "code",
   "execution_count": 19,
   "metadata": {},
   "outputs": [
    {
     "data": {
      "text/html": [
       "<div>\n",
       "<style scoped>\n",
       "    .dataframe tbody tr th:only-of-type {\n",
       "        vertical-align: middle;\n",
       "    }\n",
       "\n",
       "    .dataframe tbody tr th {\n",
       "        vertical-align: top;\n",
       "    }\n",
       "\n",
       "    .dataframe thead th {\n",
       "        text-align: right;\n",
       "    }\n",
       "</style>\n",
       "<table border=\"1\" class=\"dataframe\">\n",
       "  <thead>\n",
       "    <tr style=\"text-align: right;\">\n",
       "      <th></th>\n",
       "      <th>Unnamed: 0</th>\n",
       "      <th>word</th>\n",
       "    </tr>\n",
       "  </thead>\n",
       "  <tbody>\n",
       "    <tr>\n",
       "      <th>0</th>\n",
       "      <td>0</td>\n",
       "      <td>لونی</td>\n",
       "    </tr>\n",
       "    <tr>\n",
       "      <th>1</th>\n",
       "      <td>1</td>\n",
       "      <td>بازار بَنانا</td>\n",
       "    </tr>\n",
       "    <tr>\n",
       "      <th>2</th>\n",
       "      <td>2</td>\n",
       "      <td>اَب</td>\n",
       "    </tr>\n",
       "    <tr>\n",
       "      <th>3</th>\n",
       "      <td>0</td>\n",
       "      <td>ِ اِحِْتشام دار</td>\n",
       "    </tr>\n",
       "    <tr>\n",
       "      <th>4</th>\n",
       "      <td>1</td>\n",
       "      <td>بندی جان</td>\n",
       "    </tr>\n",
       "    <tr>\n",
       "      <th>...</th>\n",
       "      <td>...</td>\n",
       "      <td>...</td>\n",
       "    </tr>\n",
       "    <tr>\n",
       "      <th>6937</th>\n",
       "      <td>1020</td>\n",
       "      <td>پرچہ نِگار</td>\n",
       "    </tr>\n",
       "    <tr>\n",
       "      <th>6938</th>\n",
       "      <td>1021</td>\n",
       "      <td>پرچہ نَوِیس</td>\n",
       "    </tr>\n",
       "    <tr>\n",
       "      <th>6939</th>\n",
       "      <td>1022</td>\n",
       "      <td>پَرْچی ڈالْنا</td>\n",
       "    </tr>\n",
       "    <tr>\n",
       "      <th>6940</th>\n",
       "      <td>1023</td>\n",
       "      <td>پَرْچے کَرْنا</td>\n",
       "    </tr>\n",
       "    <tr>\n",
       "      <th>6941</th>\n",
       "      <td>1024</td>\n",
       "      <td>پَرِچَے رَکْھنا</td>\n",
       "    </tr>\n",
       "  </tbody>\n",
       "</table>\n",
       "<p>6942 rows × 2 columns</p>\n",
       "</div>"
      ],
      "text/plain": [
       "      Unnamed: 0              word\n",
       "0              0              لونی\n",
       "1              1      بازار بَنانا\n",
       "2              2               اَب\n",
       "3              0   ِ اِحِْتشام دار\n",
       "4              1          بندی جان\n",
       "...          ...               ...\n",
       "6937        1020        پرچہ نِگار\n",
       "6938        1021       پرچہ نَوِیس\n",
       "6939        1022     پَرْچی ڈالْنا\n",
       "6940        1023     پَرْچے کَرْنا\n",
       "6941        1024   پَرِچَے رَکْھنا\n",
       "\n",
       "[6942 rows x 2 columns]"
      ]
     },
     "execution_count": 19,
     "metadata": {},
     "output_type": "execute_result"
    }
   ],
   "source": [
    "df"
   ]
  },
  {
   "cell_type": "code",
   "execution_count": 6,
   "metadata": {},
   "outputs": [],
   "source": [
    "import gspread\n",
    "from oauth2client.service_account import ServiceAccountCredentials\n",
    "scope = ['https://www.googleapis.com/auth/spreadsheets',\n",
    "         \"https://www.googleapis.com/auth/drive\"]\n",
    "credentials = ServiceAccountCredentials.from_json_keyfile_name(\"words-correction-a710f731b5e8.json\", scope)\n",
    "client = gspread.authorize(credentials)\n",
    "sheet = client.open(\"recorded voices\").sheet1"
   ]
  },
  {
   "cell_type": "code",
   "execution_count": 7,
   "metadata": {},
   "outputs": [
    {
     "data": {
      "text/plain": [
       "<Worksheet 'Sheet1' id:0>"
      ]
     },
     "execution_count": 7,
     "metadata": {},
     "output_type": "execute_result"
    }
   ],
   "source": [
    "sheet"
   ]
  },
  {
   "cell_type": "code",
   "execution_count": 18,
   "metadata": {},
   "outputs": [
    {
     "data": {
      "text/plain": [
       "'2'"
      ]
     },
     "execution_count": 18,
     "metadata": {},
     "output_type": "execute_result"
    }
   ],
   "source": [
    "import glob\n",
    "import os\n",
    "\n",
    "list_of_files = glob.glob('recorded_voices/*.wav') # * means all if need specific format then *.csv\n",
    "latest_file = max(list_of_files, key=os.path.getctime)\n",
    "file_name=str(int(latest_file.split('/')[1].split('.wav')[0])+1)\n",
    "file_name"
   ]
  },
  {
   "cell_type": "code",
   "execution_count": 19,
   "metadata": {},
   "outputs": [
    {
     "name": "stdout",
     "output_type": "stream",
     "text": [
      "Original DataFrame\n",
      "------------------\n",
      "   name  physics  chemistry  algebra\n",
      "0  Somu       68         84       78\n",
      "1  Kiku       74         56       88\n",
      "2  Amol       77         73       82\n",
      "3  Lini       78         69       87\n",
      "\n",
      "\n",
      "New row added to DataFrame\n",
      "--------------------------\n",
      "   name  physics  chemistry  algebra\n",
      "0  Somu       68         84       78\n",
      "1  Kiku       74         56       88\n",
      "2  Amol       77         73       82\n",
      "3  Lini       78         69       87\n",
      "4   Geo       87         92       97\n"
     ]
    },
    {
     "name": "stderr",
     "output_type": "stream",
     "text": [
      "/tmp/ipykernel_13425/1421141668.py:16: FutureWarning: The frame.append method is deprecated and will be removed from pandas in a future version. Use pandas.concat instead.\n",
      "  df_marks = df_marks.append(new_row, ignore_index=True)\n"
     ]
    }
   ],
   "source": [
    "import pandas as pd\n",
    "\n",
    "data = {'name': ['Somu', 'Kiku', 'Amol', 'Lini'],\n",
    "\t'physics': [68, 74, 77, 78],\n",
    "\t'chemistry': [84, 56, 73, 69],\n",
    "\t'algebra': [78, 88, 82, 87]}\n",
    "\n",
    "\t\n",
    "#create dataframe\n",
    "df_marks = pd.DataFrame(data)\n",
    "print('Original DataFrame\\n------------------')\n",
    "print(df_marks)\n",
    "\n",
    "new_row = {'name':'Geo', 'physics':87, 'chemistry':92, 'algebra':97}\n",
    "#append row to the dataframe\n",
    "df_marks = df_marks.append(new_row, ignore_index=True)\n",
    "\n",
    "print('\\n\\nNew row added to DataFrame\\n--------------------------')\n",
    "print(df_marks)"
   ]
  },
  {
   "cell_type": "code",
   "execution_count": 1,
   "metadata": {},
   "outputs": [],
   "source": [
    "a='./recorded_voices/0.wav'"
   ]
  },
  {
   "cell_type": "code",
   "execution_count": 4,
   "metadata": {},
   "outputs": [
    {
     "data": {
      "text/plain": [
       "'0.wav'"
      ]
     },
     "execution_count": 4,
     "metadata": {},
     "output_type": "execute_result"
    }
   ],
   "source": [
    "a.split('/')[-1]"
   ]
  },
  {
   "cell_type": "code",
   "execution_count": 3,
   "metadata": {},
   "outputs": [
    {
     "data": {
      "text/plain": [
       "'./recorded_voices/0.wav'"
      ]
     },
     "execution_count": 3,
     "metadata": {},
     "output_type": "execute_result"
    }
   ],
   "source": [
    "a"
   ]
  },
  {
   "cell_type": "code",
   "execution_count": null,
   "metadata": {},
   "outputs": [],
   "source": []
  }
 ],
 "metadata": {
  "kernelspec": {
   "display_name": "Python 3.9.12 ('base')",
   "language": "python",
   "name": "python3"
  },
  "language_info": {
   "codemirror_mode": {
    "name": "ipython",
    "version": 3
   },
   "file_extension": ".py",
   "mimetype": "text/x-python",
   "name": "python",
   "nbconvert_exporter": "python",
   "pygments_lexer": "ipython3",
   "version": "3.9.12"
  },
  "orig_nbformat": 4,
  "vscode": {
   "interpreter": {
    "hash": "2553cb4ceb95e9b592b26c4fe00c43d5a20f4338fcaa7023ab16eccdb21828c6"
   }
  }
 },
 "nbformat": 4,
 "nbformat_minor": 2
}
